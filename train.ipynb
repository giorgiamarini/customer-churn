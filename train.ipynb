{
 "cells": [
  {
   "cell_type": "markdown",
   "id": "voluntary-collapse",
   "metadata": {},
   "source": [
    "### Import librerie ed oggetti"
   ]
  },
  {
   "cell_type": "markdown",
   "id": "loaded-companion",
   "metadata": {},
   "source": [
    "* pandas, per la manipolazione dei dati csv.\n",
    "* seaborn (https://www.kaggle.com/learn/data-visualization) e matplotlib, per i grafici\n",
    "* da sklearn:\n",
    "    * LabelEncoder, per gestire variabili categoriali\n",
    "    * DecisionTreeClassifier\n",
    "    * RandomForestClassifier (da Kaggle)\n",
    "    * LogisticRegression\n",
    "    * MLPClassifier"
   ]
  },
  {
   "cell_type": "code",
   "execution_count": 1,
   "id": "understanding-jumping",
   "metadata": {},
   "outputs": [
    {
     "name": "stdout",
     "output_type": "stream",
     "text": [
      "/bin/bash: sudo: command not found\r\n"
     ]
    }
   ],
   "source": [
    "!sudo apt update && sudo apt install -y graphviz"
   ]
  },
  {
   "cell_type": "code",
   "execution_count": 2,
   "id": "successful-moment",
   "metadata": {},
   "outputs": [
    {
     "name": "stdout",
     "output_type": "stream",
     "text": [
      "Requirement already satisfied: graphviz in /srv/conda/envs/notebook/lib/python3.6/site-packages (0.16)\n",
      "Requirement already satisfied: mglearn in /srv/conda/envs/notebook/lib/python3.6/site-packages (0.1.9)\n",
      "Requirement already satisfied: scikit-learn in /srv/conda/envs/notebook/lib/python3.6/site-packages (from mglearn) (0.24.1)\n",
      "Requirement already satisfied: pillow in /srv/conda/envs/notebook/lib/python3.6/site-packages (from mglearn) (8.2.0)\n",
      "Requirement already satisfied: pandas in /srv/conda/envs/notebook/lib/python3.6/site-packages (from mglearn) (1.1.5)\n",
      "Requirement already satisfied: cycler in /srv/conda/envs/notebook/lib/python3.6/site-packages/cycler-0.10.0-py3.6.egg (from mglearn) (0.10.0)\n",
      "Requirement already satisfied: matplotlib in /srv/conda/envs/notebook/lib/python3.6/site-packages (from mglearn) (3.3.4)\n",
      "Requirement already satisfied: numpy in /srv/conda/envs/notebook/lib/python3.6/site-packages (from mglearn) (1.19.5)\n",
      "Requirement already satisfied: imageio in /srv/conda/envs/notebook/lib/python3.6/site-packages (from mglearn) (2.9.0)\n",
      "Requirement already satisfied: joblib in /srv/conda/envs/notebook/lib/python3.6/site-packages (from mglearn) (1.0.1)\n",
      "Requirement already satisfied: six in /srv/conda/envs/notebook/lib/python3.6/site-packages (from cycler->mglearn) (1.15.0)\n",
      "Requirement already satisfied: python-dateutil>=2.1 in /srv/conda/envs/notebook/lib/python3.6/site-packages (from matplotlib->mglearn) (2.8.1)\n",
      "Requirement already satisfied: pyparsing!=2.0.4,!=2.1.2,!=2.1.6,>=2.0.3 in /srv/conda/envs/notebook/lib/python3.6/site-packages (from matplotlib->mglearn) (2.4.7)\n",
      "Requirement already satisfied: kiwisolver>=1.0.1 in /srv/conda/envs/notebook/lib/python3.6/site-packages (from matplotlib->mglearn) (1.3.1)\n",
      "Requirement already satisfied: pytz>=2017.2 in /srv/conda/envs/notebook/lib/python3.6/site-packages (from pandas->mglearn) (2021.1)\n",
      "Requirement already satisfied: threadpoolctl>=2.0.0 in /srv/conda/envs/notebook/lib/python3.6/site-packages (from scikit-learn->mglearn) (2.1.0)\n",
      "Requirement already satisfied: scipy>=0.19.1 in /srv/conda/envs/notebook/lib/python3.6/site-packages (from scikit-learn->mglearn) (1.5.3)\n",
      "Requirement already satisfied: seaborn in /srv/conda/envs/notebook/lib/python3.6/site-packages (0.11.1)\n",
      "Requirement already satisfied: pandas>=0.23 in /srv/conda/envs/notebook/lib/python3.6/site-packages (from seaborn) (1.1.5)\n",
      "Requirement already satisfied: numpy>=1.15 in /srv/conda/envs/notebook/lib/python3.6/site-packages (from seaborn) (1.19.5)\n",
      "Requirement already satisfied: matplotlib>=2.2 in /srv/conda/envs/notebook/lib/python3.6/site-packages (from seaborn) (3.3.4)\n",
      "Requirement already satisfied: scipy>=1.0 in /srv/conda/envs/notebook/lib/python3.6/site-packages (from seaborn) (1.5.3)\n",
      "Requirement already satisfied: cycler>=0.10 in /srv/conda/envs/notebook/lib/python3.6/site-packages/cycler-0.10.0-py3.6.egg (from matplotlib>=2.2->seaborn) (0.10.0)\n",
      "Requirement already satisfied: pillow>=6.2.0 in /srv/conda/envs/notebook/lib/python3.6/site-packages (from matplotlib>=2.2->seaborn) (8.2.0)\n",
      "Requirement already satisfied: kiwisolver>=1.0.1 in /srv/conda/envs/notebook/lib/python3.6/site-packages (from matplotlib>=2.2->seaborn) (1.3.1)\n",
      "Requirement already satisfied: python-dateutil>=2.1 in /srv/conda/envs/notebook/lib/python3.6/site-packages (from matplotlib>=2.2->seaborn) (2.8.1)\n",
      "Requirement already satisfied: pyparsing!=2.0.4,!=2.1.2,!=2.1.6,>=2.0.3 in /srv/conda/envs/notebook/lib/python3.6/site-packages (from matplotlib>=2.2->seaborn) (2.4.7)\n",
      "Requirement already satisfied: six in /srv/conda/envs/notebook/lib/python3.6/site-packages (from cycler>=0.10->matplotlib>=2.2->seaborn) (1.15.0)\n",
      "Requirement already satisfied: pytz>=2017.2 in /srv/conda/envs/notebook/lib/python3.6/site-packages (from pandas>=0.23->seaborn) (2021.1)\n",
      "Requirement already satisfied: scikit-learn==0.24.1 in /srv/conda/envs/notebook/lib/python3.6/site-packages (0.24.1)\n",
      "Requirement already satisfied: numpy>=1.13.3 in /srv/conda/envs/notebook/lib/python3.6/site-packages (from scikit-learn==0.24.1) (1.19.5)\n",
      "Requirement already satisfied: joblib>=0.11 in /srv/conda/envs/notebook/lib/python3.6/site-packages (from scikit-learn==0.24.1) (1.0.1)\n",
      "Requirement already satisfied: threadpoolctl>=2.0.0 in /srv/conda/envs/notebook/lib/python3.6/site-packages (from scikit-learn==0.24.1) (2.1.0)\n",
      "Requirement already satisfied: scipy>=0.19.1 in /srv/conda/envs/notebook/lib/python3.6/site-packages (from scikit-learn==0.24.1) (1.5.3)\n"
     ]
    }
   ],
   "source": [
    "!pip3 install graphviz\n",
    "!pip3 install mglearn\n",
    "!pip3 install seaborn\n",
    "!pip3 install scikit-learn=='0.24.1'"
   ]
  },
  {
   "cell_type": "markdown",
   "id": "integral-meaning",
   "metadata": {},
   "source": [
    "### Import librerie necessarie"
   ]
  },
  {
   "cell_type": "code",
   "execution_count": 3,
   "id": "signal-scheme",
   "metadata": {},
   "outputs": [],
   "source": [
    "import pandas as pd\n",
    "from sklearn.preprocessing import LabelEncoder\n",
    "from sklearn.neighbors import KNeighborsClassifier\n",
    "from sklearn.ensemble import RandomForestClassifier\n",
    "from sklearn.linear_model import LogisticRegression\n",
    "from sklearn.tree import DecisionTreeClassifier\n",
    "from sklearn.neural_network import MLPClassifier\n",
    "\n",
    "import matplotlib.pyplot as plt\n",
    "%matplotlib inline\n",
    "import seaborn as sns\n",
    "\n",
    "from sklearn.metrics import classification_report"
   ]
  },
  {
   "cell_type": "markdown",
   "id": "mediterranean-classic",
   "metadata": {},
   "source": [
    "### Importo i file di training e di test"
   ]
  },
  {
   "cell_type": "code",
   "execution_count": 4,
   "id": "alternate-portable",
   "metadata": {},
   "outputs": [],
   "source": [
    "customer_train = pd.read_csv('train.csv', error_bad_lines=False,dtype=str)\n",
    "customer_test = pd.read_csv('test.csv', error_bad_lines=False,dtype=str)"
   ]
  },
  {
   "cell_type": "markdown",
   "id": "color-fiber",
   "metadata": {},
   "source": [
    "### Preprocessing dei dati"
   ]
  },
  {
   "cell_type": "markdown",
   "id": "external-hands",
   "metadata": {},
   "source": [
    "Prepariamo i dati: \n",
    "* per prima cosa visualizziamo i dati di training\n",
    "* rimuoviamo i duplicati\n",
    "* rimuoviamo i valori nulli\n",
    "* Effettuo l'encoding delle stringhe in interi.\n",
    "* Cerco le feature più significative.\n",
    "* Elimino le feature che hanno meno influenza sul risultato."
   ]
  },
  {
   "cell_type": "code",
   "execution_count": 5,
   "id": "banner-sugar",
   "metadata": {
    "scrolled": false
   },
   "outputs": [
    {
     "data": {
      "text/html": [
       "<div>\n",
       "<style scoped>\n",
       "    .dataframe tbody tr th:only-of-type {\n",
       "        vertical-align: middle;\n",
       "    }\n",
       "\n",
       "    .dataframe tbody tr th {\n",
       "        vertical-align: top;\n",
       "    }\n",
       "\n",
       "    .dataframe thead th {\n",
       "        text-align: right;\n",
       "    }\n",
       "</style>\n",
       "<table border=\"1\" class=\"dataframe\">\n",
       "  <thead>\n",
       "    <tr style=\"text-align: right;\">\n",
       "      <th></th>\n",
       "      <th>Exited</th>\n",
       "      <th>RowNumber</th>\n",
       "      <th>CustomerId</th>\n",
       "      <th>Surname</th>\n",
       "      <th>CreditScore</th>\n",
       "      <th>Geography</th>\n",
       "      <th>Gender</th>\n",
       "      <th>Age</th>\n",
       "      <th>Tenure</th>\n",
       "      <th>Balance</th>\n",
       "      <th>NumOfProducts</th>\n",
       "      <th>HasCrCard</th>\n",
       "      <th>IsActiveMember</th>\n",
       "      <th>EstimatedSalary</th>\n",
       "    </tr>\n",
       "  </thead>\n",
       "  <tbody>\n",
       "    <tr>\n",
       "      <th>0</th>\n",
       "      <td>0</td>\n",
       "      <td>7956</td>\n",
       "      <td>15644297</td>\n",
       "      <td>Austin</td>\n",
       "      <td>732</td>\n",
       "      <td>Germany</td>\n",
       "      <td>Male</td>\n",
       "      <td>38</td>\n",
       "      <td>5</td>\n",
       "      <td>178787.54</td>\n",
       "      <td>1</td>\n",
       "      <td>1</td>\n",
       "      <td>1</td>\n",
       "      <td>195760.53</td>\n",
       "    </tr>\n",
       "    <tr>\n",
       "      <th>1</th>\n",
       "      <td>0</td>\n",
       "      <td>6092</td>\n",
       "      <td>15777896</td>\n",
       "      <td>Chukwudi</td>\n",
       "      <td>850</td>\n",
       "      <td>Germany</td>\n",
       "      <td>Female</td>\n",
       "      <td>33</td>\n",
       "      <td>2</td>\n",
       "      <td>83415.04</td>\n",
       "      <td>1</td>\n",
       "      <td>0</td>\n",
       "      <td>1</td>\n",
       "      <td>74917.64</td>\n",
       "    </tr>\n",
       "    <tr>\n",
       "      <th>2</th>\n",
       "      <td>0</td>\n",
       "      <td>6522</td>\n",
       "      <td>15748231</td>\n",
       "      <td>Hargreaves</td>\n",
       "      <td>700</td>\n",
       "      <td>Germany</td>\n",
       "      <td>Male</td>\n",
       "      <td>35</td>\n",
       "      <td>4</td>\n",
       "      <td>95853.39</td>\n",
       "      <td>2</td>\n",
       "      <td>1</td>\n",
       "      <td>0</td>\n",
       "      <td>192933.37</td>\n",
       "    </tr>\n",
       "    <tr>\n",
       "      <th>3</th>\n",
       "      <td>0</td>\n",
       "      <td>3447</td>\n",
       "      <td>15764654</td>\n",
       "      <td>Zikoranachidimma</td>\n",
       "      <td>649</td>\n",
       "      <td>France</td>\n",
       "      <td>Male</td>\n",
       "      <td>37</td>\n",
       "      <td>9</td>\n",
       "      <td>87374.88</td>\n",
       "      <td>2</td>\n",
       "      <td>1</td>\n",
       "      <td>1</td>\n",
       "      <td>247.36</td>\n",
       "    </tr>\n",
       "    <tr>\n",
       "      <th>4</th>\n",
       "      <td>0</td>\n",
       "      <td>8039</td>\n",
       "      <td>15756824</td>\n",
       "      <td>Giordano</td>\n",
       "      <td>613</td>\n",
       "      <td>Germany</td>\n",
       "      <td>Female</td>\n",
       "      <td>50</td>\n",
       "      <td>5</td>\n",
       "      <td>101242.98</td>\n",
       "      <td>2</td>\n",
       "      <td>1</td>\n",
       "      <td>0</td>\n",
       "      <td>12493.61</td>\n",
       "    </tr>\n",
       "    <tr>\n",
       "      <th>...</th>\n",
       "      <td>...</td>\n",
       "      <td>...</td>\n",
       "      <td>...</td>\n",
       "      <td>...</td>\n",
       "      <td>...</td>\n",
       "      <td>...</td>\n",
       "      <td>...</td>\n",
       "      <td>...</td>\n",
       "      <td>...</td>\n",
       "      <td>...</td>\n",
       "      <td>...</td>\n",
       "      <td>...</td>\n",
       "      <td>...</td>\n",
       "      <td>...</td>\n",
       "    </tr>\n",
       "    <tr>\n",
       "      <th>6395</th>\n",
       "      <td>0</td>\n",
       "      <td>7576</td>\n",
       "      <td>15687634</td>\n",
       "      <td>Glover</td>\n",
       "      <td>561</td>\n",
       "      <td>Germany</td>\n",
       "      <td>Male</td>\n",
       "      <td>49</td>\n",
       "      <td>5</td>\n",
       "      <td>94754.0</td>\n",
       "      <td>1</td>\n",
       "      <td>1</td>\n",
       "      <td>1</td>\n",
       "      <td>26691.31</td>\n",
       "    </tr>\n",
       "    <tr>\n",
       "      <th>6396</th>\n",
       "      <td>0</td>\n",
       "      <td>2876</td>\n",
       "      <td>15641640</td>\n",
       "      <td>Uspenskaya</td>\n",
       "      <td>545</td>\n",
       "      <td>Spain</td>\n",
       "      <td>Female</td>\n",
       "      <td>33</td>\n",
       "      <td>7</td>\n",
       "      <td>173331.52</td>\n",
       "      <td>1</td>\n",
       "      <td>1</td>\n",
       "      <td>0</td>\n",
       "      <td>150452.88</td>\n",
       "    </tr>\n",
       "    <tr>\n",
       "      <th>6397</th>\n",
       "      <td>0</td>\n",
       "      <td>2468</td>\n",
       "      <td>15716518</td>\n",
       "      <td>Yuryeva</td>\n",
       "      <td>617</td>\n",
       "      <td>France</td>\n",
       "      <td>Female</td>\n",
       "      <td>27</td>\n",
       "      <td>4</td>\n",
       "      <td>0.0</td>\n",
       "      <td>2</td>\n",
       "      <td>0</td>\n",
       "      <td>0</td>\n",
       "      <td>190269.21</td>\n",
       "    </tr>\n",
       "    <tr>\n",
       "      <th>6398</th>\n",
       "      <td>0</td>\n",
       "      <td>642</td>\n",
       "      <td>15580684</td>\n",
       "      <td>Feng</td>\n",
       "      <td>706</td>\n",
       "      <td>France</td>\n",
       "      <td>Female</td>\n",
       "      <td>29</td>\n",
       "      <td>5</td>\n",
       "      <td>112564.62</td>\n",
       "      <td>1</td>\n",
       "      <td>1</td>\n",
       "      <td>0</td>\n",
       "      <td>42334.38</td>\n",
       "    </tr>\n",
       "    <tr>\n",
       "      <th>6399</th>\n",
       "      <td>0</td>\n",
       "      <td>4573</td>\n",
       "      <td>15799964</td>\n",
       "      <td>Campbell</td>\n",
       "      <td>669</td>\n",
       "      <td>Germany</td>\n",
       "      <td>Female</td>\n",
       "      <td>30</td>\n",
       "      <td>7</td>\n",
       "      <td>139872.81</td>\n",
       "      <td>1</td>\n",
       "      <td>1</td>\n",
       "      <td>0</td>\n",
       "      <td>188795.85</td>\n",
       "    </tr>\n",
       "  </tbody>\n",
       "</table>\n",
       "<p>6400 rows × 14 columns</p>\n",
       "</div>"
      ],
      "text/plain": [
       "     Exited RowNumber CustomerId           Surname CreditScore Geography  \\\n",
       "0         0      7956   15644297            Austin         732   Germany   \n",
       "1         0      6092   15777896          Chukwudi         850   Germany   \n",
       "2         0      6522   15748231        Hargreaves         700   Germany   \n",
       "3         0      3447   15764654  Zikoranachidimma         649    France   \n",
       "4         0      8039   15756824          Giordano         613   Germany   \n",
       "...     ...       ...        ...               ...         ...       ...   \n",
       "6395      0      7576   15687634            Glover         561   Germany   \n",
       "6396      0      2876   15641640        Uspenskaya         545     Spain   \n",
       "6397      0      2468   15716518           Yuryeva         617    France   \n",
       "6398      0       642   15580684              Feng         706    France   \n",
       "6399      0      4573   15799964          Campbell         669   Germany   \n",
       "\n",
       "      Gender Age Tenure    Balance NumOfProducts HasCrCard IsActiveMember  \\\n",
       "0       Male  38      5  178787.54             1         1              1   \n",
       "1     Female  33      2   83415.04             1         0              1   \n",
       "2       Male  35      4   95853.39             2         1              0   \n",
       "3       Male  37      9   87374.88             2         1              1   \n",
       "4     Female  50      5  101242.98             2         1              0   \n",
       "...      ...  ..    ...        ...           ...       ...            ...   \n",
       "6395    Male  49      5    94754.0             1         1              1   \n",
       "6396  Female  33      7  173331.52             1         1              0   \n",
       "6397  Female  27      4        0.0             2         0              0   \n",
       "6398  Female  29      5  112564.62             1         1              0   \n",
       "6399  Female  30      7  139872.81             1         1              0   \n",
       "\n",
       "     EstimatedSalary  \n",
       "0          195760.53  \n",
       "1           74917.64  \n",
       "2          192933.37  \n",
       "3             247.36  \n",
       "4           12493.61  \n",
       "...              ...  \n",
       "6395        26691.31  \n",
       "6396       150452.88  \n",
       "6397       190269.21  \n",
       "6398        42334.38  \n",
       "6399       188795.85  \n",
       "\n",
       "[6400 rows x 14 columns]"
      ]
     },
     "execution_count": 5,
     "metadata": {},
     "output_type": "execute_result"
    }
   ],
   "source": [
    "# visualizzo i dati di training \n",
    "customer_train"
   ]
  },
  {
   "cell_type": "markdown",
   "id": "varied-quantity",
   "metadata": {},
   "source": [
    "Elenco delle informazioni contenute nel dataset: \n",
    "* CustomerId: id cliente\n",
    "* Surname: cognome del cliente\n",
    "* CreditScore: score creditizio\n",
    "* Geography: paese d'appartenenza\n",
    "* Gender: sesso\n",
    "* Age: età\n",
    "* Tenure: da quanto è cliente\n",
    "* Balance: ammontare del conto in banca\n",
    "* NumOfProducts: quanti prodotti finanziari usa\n",
    "* HasCrCard: ha una carta di credito\n",
    "* IsActiveMember: se il conto è attivo        \n",
    "* EstimatedSalary: entrate stimate del cliente\n",
    "* Exited: se ha cambiato banca o no"
   ]
  },
  {
   "cell_type": "code",
   "execution_count": 6,
   "id": "consistent-package",
   "metadata": {},
   "outputs": [],
   "source": [
    "#trasformo in float e int i campi per facilitare i calcoli \n",
    "customer_train['Balance'] = customer_train.Balance.astype(float)\n",
    "customer_train['Age'] = customer_train.Age.astype(int)\n",
    "customer_train['Exited'] = customer_train.Exited.astype(int)\n",
    "customer_train['CreditScore'] = customer_train.CreditScore.astype(int)\n",
    "customer_train['Tenure'] = customer_train.Tenure.astype(int)\n",
    "customer_train['NumOfProducts'] = customer_train.NumOfProducts.astype(int)\n",
    "customer_train['HasCrCard'] = customer_train.HasCrCard.astype(int)\n",
    "customer_train['IsActiveMember'] = customer_train.IsActiveMember.astype(int)\n",
    "customer_train['EstimatedSalary'] = customer_train.EstimatedSalary.astype(float)\n",
    "\n",
    "customer_test['Balance'] = customer_test.Balance.astype(float)\n",
    "customer_test['NumOfProducts'] = customer_test.NumOfProducts.astype(int)"
   ]
  },
  {
   "cell_type": "markdown",
   "id": "residential-laundry",
   "metadata": {},
   "source": [
    "Introduco una nuova colonna: BalanceProduct. Questa colonna parte dal presupposto che un cliente della banca sarà più propenso a restare nel momento in cui utilizza un maggior numero di prodotti finanziari, ed anche sulla base del suo conto bancario. "
   ]
  },
  {
   "cell_type": "code",
   "execution_count": 7,
   "id": "female-evans",
   "metadata": {},
   "outputs": [
    {
     "data": {
      "text/plain": [
       "<AxesSubplot:xlabel='Exited', ylabel='BalanceProducts'>"
      ]
     },
     "execution_count": 7,
     "metadata": {},
     "output_type": "execute_result"
    },
    {
     "data": {
      "image/png": "[encoded data removed]",
      "text/plain": [
       "<Figure size 432x288 with 1 Axes>"
      ]
     },
     "metadata": {
      "needs_background": "light"
     },
     "output_type": "display_data"
    }
   ],
   "source": [
    "customer_train['BalanceProducts']=customer_train['Balance']/customer_train['NumOfProducts']\n",
    "customer_test['BalanceProducts']=customer_test['Balance']/customer_test['NumOfProducts']\n",
    "\n",
    "sns.boxplot(y='BalanceProducts',x = 'Exited',data = customer_train)"
   ]
  },
  {
   "cell_type": "code",
   "execution_count": 8,
   "id": "functioning-embassy",
   "metadata": {},
   "outputs": [],
   "source": [
    "#controllo che non ci siano duplicati\n",
    "customer_train.drop_duplicates(inplace=True)\n",
    "customer_test.drop_duplicates(inplace=True)"
   ]
  },
  {
   "cell_type": "code",
   "execution_count": 9,
   "id": "adolescent-wilson",
   "metadata": {},
   "outputs": [
    {
     "data": {
      "text/plain": [
       "Exited             False\n",
       "RowNumber          False\n",
       "CustomerId         False\n",
       "Surname            False\n",
       "CreditScore        False\n",
       "Geography          False\n",
       "Gender             False\n",
       "Age                False\n",
       "Tenure             False\n",
       "Balance            False\n",
       "NumOfProducts      False\n",
       "HasCrCard          False\n",
       "IsActiveMember     False\n",
       "EstimatedSalary    False\n",
       "BalanceProducts    False\n",
       "dtype: bool"
      ]
     },
     "execution_count": 9,
     "metadata": {},
     "output_type": "execute_result"
    }
   ],
   "source": [
    "#controllo che non ci siano valori nulli \n",
    "customer_train.isnull().any()\n",
    "customer_test.isnull().any()\n",
    "#non ce ne sono! "
   ]
  },
  {
   "cell_type": "code",
   "execution_count": 10,
   "id": "nutritional-practitioner",
   "metadata": {},
   "outputs": [],
   "source": [
    "#Elimino subito alcuni attributi specifici per il cliente, che non mi servono.\n",
    "customer_train = customer_train.drop([\"RowNumber\", \"CustomerId\", \"Surname\"], axis = 1)\n",
    "customer_test = customer_test.drop([\"RowNumber\", \"CustomerId\", \"Surname\"], axis = 1)"
   ]
  },
  {
   "cell_type": "code",
   "execution_count": 11,
   "id": "scenic-davis",
   "metadata": {},
   "outputs": [
    {
     "data": {
      "text/html": [
       "<div>\n",
       "<style scoped>\n",
       "    .dataframe tbody tr th:only-of-type {\n",
       "        vertical-align: middle;\n",
       "    }\n",
       "\n",
       "    .dataframe tbody tr th {\n",
       "        vertical-align: top;\n",
       "    }\n",
       "\n",
       "    .dataframe thead th {\n",
       "        text-align: right;\n",
       "    }\n",
       "</style>\n",
       "<table border=\"1\" class=\"dataframe\">\n",
       "  <thead>\n",
       "    <tr style=\"text-align: right;\">\n",
       "      <th></th>\n",
       "      <th>Exited</th>\n",
       "      <th>CreditScore</th>\n",
       "      <th>Geography</th>\n",
       "      <th>Gender</th>\n",
       "      <th>Age</th>\n",
       "      <th>Tenure</th>\n",
       "      <th>Balance</th>\n",
       "      <th>NumOfProducts</th>\n",
       "      <th>HasCrCard</th>\n",
       "      <th>IsActiveMember</th>\n",
       "      <th>EstimatedSalary</th>\n",
       "      <th>BalanceProducts</th>\n",
       "    </tr>\n",
       "  </thead>\n",
       "  <tbody>\n",
       "    <tr>\n",
       "      <th>0</th>\n",
       "      <td>0</td>\n",
       "      <td>732</td>\n",
       "      <td>Germany</td>\n",
       "      <td>Male</td>\n",
       "      <td>38</td>\n",
       "      <td>5</td>\n",
       "      <td>178787.54</td>\n",
       "      <td>1</td>\n",
       "      <td>1</td>\n",
       "      <td>1</td>\n",
       "      <td>195760.53</td>\n",
       "      <td>178787.540</td>\n",
       "    </tr>\n",
       "    <tr>\n",
       "      <th>1</th>\n",
       "      <td>0</td>\n",
       "      <td>850</td>\n",
       "      <td>Germany</td>\n",
       "      <td>Female</td>\n",
       "      <td>33</td>\n",
       "      <td>2</td>\n",
       "      <td>83415.04</td>\n",
       "      <td>1</td>\n",
       "      <td>0</td>\n",
       "      <td>1</td>\n",
       "      <td>74917.64</td>\n",
       "      <td>83415.040</td>\n",
       "    </tr>\n",
       "    <tr>\n",
       "      <th>2</th>\n",
       "      <td>0</td>\n",
       "      <td>700</td>\n",
       "      <td>Germany</td>\n",
       "      <td>Male</td>\n",
       "      <td>35</td>\n",
       "      <td>4</td>\n",
       "      <td>95853.39</td>\n",
       "      <td>2</td>\n",
       "      <td>1</td>\n",
       "      <td>0</td>\n",
       "      <td>192933.37</td>\n",
       "      <td>47926.695</td>\n",
       "    </tr>\n",
       "    <tr>\n",
       "      <th>3</th>\n",
       "      <td>0</td>\n",
       "      <td>649</td>\n",
       "      <td>France</td>\n",
       "      <td>Male</td>\n",
       "      <td>37</td>\n",
       "      <td>9</td>\n",
       "      <td>87374.88</td>\n",
       "      <td>2</td>\n",
       "      <td>1</td>\n",
       "      <td>1</td>\n",
       "      <td>247.36</td>\n",
       "      <td>43687.440</td>\n",
       "    </tr>\n",
       "    <tr>\n",
       "      <th>4</th>\n",
       "      <td>0</td>\n",
       "      <td>613</td>\n",
       "      <td>Germany</td>\n",
       "      <td>Female</td>\n",
       "      <td>50</td>\n",
       "      <td>5</td>\n",
       "      <td>101242.98</td>\n",
       "      <td>2</td>\n",
       "      <td>1</td>\n",
       "      <td>0</td>\n",
       "      <td>12493.61</td>\n",
       "      <td>50621.490</td>\n",
       "    </tr>\n",
       "    <tr>\n",
       "      <th>...</th>\n",
       "      <td>...</td>\n",
       "      <td>...</td>\n",
       "      <td>...</td>\n",
       "      <td>...</td>\n",
       "      <td>...</td>\n",
       "      <td>...</td>\n",
       "      <td>...</td>\n",
       "      <td>...</td>\n",
       "      <td>...</td>\n",
       "      <td>...</td>\n",
       "      <td>...</td>\n",
       "      <td>...</td>\n",
       "    </tr>\n",
       "    <tr>\n",
       "      <th>6395</th>\n",
       "      <td>0</td>\n",
       "      <td>561</td>\n",
       "      <td>Germany</td>\n",
       "      <td>Male</td>\n",
       "      <td>49</td>\n",
       "      <td>5</td>\n",
       "      <td>94754.00</td>\n",
       "      <td>1</td>\n",
       "      <td>1</td>\n",
       "      <td>1</td>\n",
       "      <td>26691.31</td>\n",
       "      <td>94754.000</td>\n",
       "    </tr>\n",
       "    <tr>\n",
       "      <th>6396</th>\n",
       "      <td>0</td>\n",
       "      <td>545</td>\n",
       "      <td>Spain</td>\n",
       "      <td>Female</td>\n",
       "      <td>33</td>\n",
       "      <td>7</td>\n",
       "      <td>173331.52</td>\n",
       "      <td>1</td>\n",
       "      <td>1</td>\n",
       "      <td>0</td>\n",
       "      <td>150452.88</td>\n",
       "      <td>173331.520</td>\n",
       "    </tr>\n",
       "    <tr>\n",
       "      <th>6397</th>\n",
       "      <td>0</td>\n",
       "      <td>617</td>\n",
       "      <td>France</td>\n",
       "      <td>Female</td>\n",
       "      <td>27</td>\n",
       "      <td>4</td>\n",
       "      <td>0.00</td>\n",
       "      <td>2</td>\n",
       "      <td>0</td>\n",
       "      <td>0</td>\n",
       "      <td>190269.21</td>\n",
       "      <td>0.000</td>\n",
       "    </tr>\n",
       "    <tr>\n",
       "      <th>6398</th>\n",
       "      <td>0</td>\n",
       "      <td>706</td>\n",
       "      <td>France</td>\n",
       "      <td>Female</td>\n",
       "      <td>29</td>\n",
       "      <td>5</td>\n",
       "      <td>112564.62</td>\n",
       "      <td>1</td>\n",
       "      <td>1</td>\n",
       "      <td>0</td>\n",
       "      <td>42334.38</td>\n",
       "      <td>112564.620</td>\n",
       "    </tr>\n",
       "    <tr>\n",
       "      <th>6399</th>\n",
       "      <td>0</td>\n",
       "      <td>669</td>\n",
       "      <td>Germany</td>\n",
       "      <td>Female</td>\n",
       "      <td>30</td>\n",
       "      <td>7</td>\n",
       "      <td>139872.81</td>\n",
       "      <td>1</td>\n",
       "      <td>1</td>\n",
       "      <td>0</td>\n",
       "      <td>188795.85</td>\n",
       "      <td>139872.810</td>\n",
       "    </tr>\n",
       "  </tbody>\n",
       "</table>\n",
       "<p>6400 rows × 12 columns</p>\n",
       "</div>"
      ],
      "text/plain": [
       "      Exited  CreditScore Geography  Gender  Age  Tenure    Balance  \\\n",
       "0          0          732   Germany    Male   38       5  178787.54   \n",
       "1          0          850   Germany  Female   33       2   83415.04   \n",
       "2          0          700   Germany    Male   35       4   95853.39   \n",
       "3          0          649    France    Male   37       9   87374.88   \n",
       "4          0          613   Germany  Female   50       5  101242.98   \n",
       "...      ...          ...       ...     ...  ...     ...        ...   \n",
       "6395       0          561   Germany    Male   49       5   94754.00   \n",
       "6396       0          545     Spain  Female   33       7  173331.52   \n",
       "6397       0          617    France  Female   27       4       0.00   \n",
       "6398       0          706    France  Female   29       5  112564.62   \n",
       "6399       0          669   Germany  Female   30       7  139872.81   \n",
       "\n",
       "      NumOfProducts  HasCrCard  IsActiveMember  EstimatedSalary  \\\n",
       "0                 1          1               1        195760.53   \n",
       "1                 1          0               1         74917.64   \n",
       "2                 2          1               0        192933.37   \n",
       "3                 2          1               1           247.36   \n",
       "4                 2          1               0         12493.61   \n",
       "...             ...        ...             ...              ...   \n",
       "6395              1          1               1         26691.31   \n",
       "6396              1          1               0        150452.88   \n",
       "6397              2          0               0        190269.21   \n",
       "6398              1          1               0         42334.38   \n",
       "6399              1          1               0        188795.85   \n",
       "\n",
       "      BalanceProducts  \n",
       "0          178787.540  \n",
       "1           83415.040  \n",
       "2           47926.695  \n",
       "3           43687.440  \n",
       "4           50621.490  \n",
       "...               ...  \n",
       "6395        94754.000  \n",
       "6396       173331.520  \n",
       "6397            0.000  \n",
       "6398       112564.620  \n",
       "6399       139872.810  \n",
       "\n",
       "[6400 rows x 12 columns]"
      ]
     },
     "execution_count": 11,
     "metadata": {},
     "output_type": "execute_result"
    }
   ],
   "source": [
    "customer_train"
   ]
  },
  {
   "cell_type": "code",
   "execution_count": 12,
   "id": "global-taxation",
   "metadata": {},
   "outputs": [
    {
     "name": "stdout",
     "output_type": "stream",
     "text": [
      "0.0\n"
     ]
    }
   ],
   "source": [
    "n = customer_train[customer_train.Exited=='1'].shape[0]\n",
    "\n",
    "print(n*100/6400)\n",
    "#Circa il 20% dei clienti è uscito."
   ]
  },
  {
   "cell_type": "code",
   "execution_count": 13,
   "id": "skilled-saying",
   "metadata": {},
   "outputs": [],
   "source": [
    "#Effettua l'encoding delle stringhe in interi\n",
    "label_encoder = LabelEncoder()\n",
    "customer_train_encoded = customer_train.apply(label_encoder.fit_transform)\n",
    "customer_test_encoded = customer_test.apply(label_encoder.fit_transform)"
   ]
  },
  {
   "cell_type": "code",
   "execution_count": 14,
   "id": "oriented-glasgow",
   "metadata": {},
   "outputs": [
    {
     "name": "stdout",
     "output_type": "stream",
     "text": [
      "                   Exited  CreditScore  Geography    Gender       Age  \\\n",
      "Exited           1.000000    -0.032105   0.034386 -0.101447  0.270966   \n",
      "CreditScore     -0.032105     1.000000   0.011443 -0.010541 -0.007271   \n",
      "Geography        0.034386     0.011443   1.000000  0.009085  0.024511   \n",
      "Gender          -0.101447    -0.010541   0.009085  1.000000 -0.019793   \n",
      "Age              0.270966    -0.007271   0.024511 -0.019793  1.000000   \n",
      "Tenure          -0.006723    -0.009664   0.001142  0.012088 -0.009973   \n",
      "Balance          0.094707    -0.006948   0.049761  0.016859  0.022456   \n",
      "NumOfProducts   -0.056231     0.017206   0.012576 -0.018031 -0.032639   \n",
      "HasCrCard       -0.003878    -0.019218  -0.020191  0.007198 -0.016632   \n",
      "IsActiveMember  -0.157399     0.029045   0.014888  0.018098  0.094186   \n",
      "EstimatedSalary  0.017594     0.000620  -0.004515 -0.023769  0.002374   \n",
      "BalanceProducts  0.096858    -0.010345   0.026748  0.020298  0.029528   \n",
      "\n",
      "                   Tenure   Balance  NumOfProducts  HasCrCard  IsActiveMember  \\\n",
      "Exited          -0.006723  0.094707      -0.056231  -0.003878       -0.157399   \n",
      "CreditScore     -0.009664 -0.006948       0.017206  -0.019218        0.029045   \n",
      "Geography        0.001142  0.049761       0.012576  -0.020191        0.014888   \n",
      "Gender           0.012088  0.016859      -0.018031   0.007198        0.018098   \n",
      "Age             -0.009973  0.022456      -0.032639  -0.016632        0.094186   \n",
      "Tenure           1.000000 -0.006614       0.015047   0.023340       -0.023551   \n",
      "Balance         -0.006614  1.000000      -0.246803  -0.002190       -0.022368   \n",
      "NumOfProducts    0.015047 -0.246803       1.000000  -0.000572        0.015137   \n",
      "HasCrCard        0.023340 -0.002190      -0.000572   1.000000       -0.005741   \n",
      "IsActiveMember  -0.023551 -0.022368       0.015137  -0.005741        1.000000   \n",
      "EstimatedSalary  0.028075  0.002355       0.013842  -0.010180       -0.008655   \n",
      "BalanceProducts -0.012830  0.815005      -0.645528  -0.012008       -0.021365   \n",
      "\n",
      "                 EstimatedSalary  BalanceProducts  \n",
      "Exited                  0.017594         0.096858  \n",
      "CreditScore             0.000620        -0.010345  \n",
      "Geography              -0.004515         0.026748  \n",
      "Gender                 -0.023769         0.020298  \n",
      "Age                     0.002374         0.029528  \n",
      "Tenure                  0.028075        -0.012830  \n",
      "Balance                 0.002355         0.815005  \n",
      "NumOfProducts           0.013842        -0.645528  \n",
      "HasCrCard              -0.010180        -0.012008  \n",
      "IsActiveMember         -0.008655        -0.021365  \n",
      "EstimatedSalary         1.000000        -0.004197  \n",
      "BalanceProducts        -0.004197         1.000000  \n"
     ]
    }
   ],
   "source": [
    "#visualizza la corrrelazione tra le features\n",
    "print(customer_train_encoded.corr())"
   ]
  },
  {
   "cell_type": "markdown",
   "id": "burning-receptor",
   "metadata": {},
   "source": [
    "POSITIVO:\n",
    "* Geography: 0.040277\n",
    "* Age: 0.275838\n",
    "* Balance: 0.056870\n",
    "\n",
    "\n",
    "NEGATIVO: \n",
    "* CreditScore: -0.020684 \n",
    "* Gender: -0.112848\n",
    "* Tenure: -0.011740 \n",
    "* NumOfProducts: -0.050760  \n",
    "* HasCrCard: -0.014153      \n",
    "* IsActiveMember: -0.152874        \n",
    "* EstimatedSalary: -0.005995"
   ]
  },
  {
   "cell_type": "code",
   "execution_count": 15,
   "id": "afraid-hundred",
   "metadata": {
    "scrolled": true
   },
   "outputs": [
    {
     "name": "stdout",
     "output_type": "stream",
     "text": [
      "[[84, 100.0], [56, 72.72727272727273], [52, 64.17910447761194], [54, 58.333333333333336], [55, 56.36363636363637], [51, 56.16438356164384], [50, 56.09756097560975], [60, 55.0], [63, 54.166666666666664], [53, 48.93617021276596], [48, 48.03921568627451], [49, 46.73913043478261], [65, 46.15384615384615], [59, 45.0], [57, 44.89795918367347], [47, 43.80165289256198], [46, 42.06896551724138], [58, 40.90909090909091], [62, 40.0], [68, 36.36363636363637], [45, 35.338345864661655], [61, 34.285714285714285], [64, 30.434782608695652], [44, 29.559748427672957], [43, 28.272251308900522], [42, 24.09090909090909], [40, 22.22222222222222], [71, 18.75], [41, 17.903930131004365], [39, 17.32851985559567], [69, 16.666666666666668], [37, 14.61038961038961], [38, 14.521452145214521], [66, 14.285714285714286], [18, 14.285714285714286], [22, 13.72549019607843], [67, 13.636363636363637], [35, 13.356164383561644], [24, 12.5], [73, 12.5], [36, 11.960132890365449], [33, 11.307420494699647], [27, 8.450704225352112], [34, 8.362369337979095], [32, 8.02919708029197], [26, 8.02919708029197], [31, 7.547169811320755], [30, 7.4766355140186915], [74, 7.142857142857143], [29, 7.079646017699115], [28, 6.896551724137931], [70, 6.666666666666667], [23, 5.970149253731344], [25, 5.617977528089888], [19, 5.555555555555555], [20, 3.7037037037037037], [21, 3.5714285714285716], [72, 0.0], [76, 0.0], [78, 0.0], [75, 0.0], [77, 0.0], [79, 0.0], [81, 0.0], [80, 0.0], [83, 0.0], [92, 0.0]]\n"
     ]
    },
    {
     "data": {
      "image/png": "[encoded data removed]",
      "text/plain": [
       "<Figure size 432x288 with 1 Axes>"
      ]
     },
     "metadata": {
      "needs_background": "light"
     },
     "output_type": "display_data"
    }
   ],
   "source": [
    "#Una delle features con valore più significativo è Age. Mi salvo i tipi di contratti, \n",
    "#e vedo se c'è qualche correlazione con il valore di Exited.\n",
    "\n",
    "sns.boxplot(y='Age',x = 'Exited',data = customer_train)\n",
    "\n",
    "tipi = customer_train['Age'].unique()\n",
    "n_per_tipo = []\n",
    "for tipo in tipi: \n",
    "    n_per_tipo.append([tipo, customer_train.Age.eq(tipo).sum(), customer_train[(customer_train.Age == tipo) & (customer_train.Exited == 1)].shape[0]])\n",
    "#print(n_per_tipo)\n",
    "\n",
    "def myFunc(e):\n",
    "    return e[2]\n",
    "n_per_tipo.sort(reverse=True, key=myFunc)\n",
    "\n",
    "result=[]\n",
    "for e in n_per_tipo: \n",
    "    result.append([e[0], (e[2]*100/e[1])])\n",
    "\n",
    "def myFunc2(e):\n",
    "    return e[1]\n",
    "\n",
    "result.sort(reverse=True, key=myFunc2)\n",
    "print(result)\n",
    "\n",
    "# capiamo che (a parte quell'unico signore di 84 anni che ha deciso di cambiare banca e grazie al quale \n",
    "# la percentuale per quell'età risulta 100%), in percentuale sono le persone che vanno dai 68 ai 45 circa. \n",
    "# Le percenutali sono molto alte (sopra il 50%) tra 60 e 49 anni."
   ]
  },
  {
   "cell_type": "code",
   "execution_count": 16,
   "id": "atmospheric-occupation",
   "metadata": {},
   "outputs": [
    {
     "name": "stdout",
     "output_type": "stream",
     "text": [
      "[['Germany', 1594, 0], ['France', 3180, 0], ['Spain', 1626, 0]]\n",
      "[['Germany', 0.0], ['France', 0.0], ['Spain', 0.0]]\n"
     ]
    },
    {
     "data": {
      "image/png": "[encoded data removed]",
      "text/plain": [
       "<Figure size 432x288 with 1 Axes>"
      ]
     },
     "metadata": {
      "needs_background": "light"
     },
     "output_type": "display_data"
    }
   ],
   "source": [
    "# Ora studiamo Geography, il paese di appartenenza.\n",
    "sns.countplot(x='Geography', hue = 'Exited',data = customer_train)\n",
    "\n",
    "tipi = customer_train['Geography'].unique()\n",
    "n_per_tipo = []\n",
    "for tipo in tipi: \n",
    "    n_per_tipo.append([tipo, customer_train.Geography.eq(tipo).sum(), customer_train[(customer_train.Geography == tipo) & (customer_train.Exited== '1')].shape[0]])\n",
    "print(n_per_tipo)\n",
    "\n",
    "result=[]\n",
    "for e in n_per_tipo: \n",
    "    result.append([e[0], (e[2]*100/e[1])])\n",
    "\n",
    "def myFunc2(e):\n",
    "    return e[1]\n",
    "\n",
    "result.sort(reverse=True, key=myFunc2)\n",
    "print(result)\n",
    "\n",
    "#Sembra che il 31% dei clienti tedeschi abbia deciso di abbandonare la banca! \n",
    "#In effetti sembra che il numero di clienti che abbandona la banca cresca al diminuire del numero totale dei clienti in quel paese."
   ]
  },
  {
   "cell_type": "code",
   "execution_count": 17,
   "id": "medical-haiti",
   "metadata": {},
   "outputs": [
    {
     "name": "stdout",
     "output_type": "stream",
     "text": [
      "[[10, 2342, 332], [100, 2342, 332], [1000, 0, 0], [10000, 2342, 332], [100000, 1040, 220], [300000, 5360, 1089]]\n",
      "[[100000, 21.153846153846153], [300000, 20.317164179104477], [10, 14.17591801878736], [100, 14.17591801878736], [10000, 14.17591801878736], [1000, 0]]\n"
     ]
    }
   ],
   "source": [
    "# Ora analizziamo da Balance, l'ammontare del conto in banca.\n",
    "n_per_cat = []\n",
    "i = -1\n",
    "categorie = [10, 100, 1000, 10000, 100000, 300000]\n",
    "for cat in categorie: \n",
    "    appoggio = [cat, customer_train[customer_train['Balance'] < cat].shape[0], customer_train[(customer_train['Balance'] < cat) & (customer_train.Exited==1)].shape[0]]\n",
    "    if i > 0:\n",
    "        appoggio[1]=appoggio[1]-n_per_cat[i][1]\n",
    "        appoggio[2]=appoggio[2]-n_per_cat[i][2]\n",
    "    i+=1\n",
    "    n_per_cat.append(appoggio)\n",
    "print(n_per_cat)\n",
    "\n",
    "result=[]\n",
    "for e in n_per_cat: \n",
    "    result.append([e[0], (e[2]*100/e[1]) if e[2]!=0 else 0])\n",
    "\n",
    "def myFunc2(e):\n",
    "    return e[1]\n",
    "\n",
    "result.sort(reverse=True, key=myFunc2)\n",
    "print(result)\n",
    "#Sembra che i clienti che se ne vanno sono quelli che sono nelle fasce di clienti che possiedono più denaro! "
   ]
  },
  {
   "cell_type": "code",
   "execution_count": 18,
   "id": "modified-title",
   "metadata": {},
   "outputs": [
    {
     "data": {
      "text/plain": [
       "<AxesSubplot:xlabel='Exited', ylabel='Tenure'>"
      ]
     },
     "execution_count": 18,
     "metadata": {},
     "output_type": "execute_result"
    },
    {
     "data": {
      "image/png": "[encoded data removed]",
      "text/plain": [
       "<Figure size 432x288 with 1 Axes>"
      ]
     },
     "metadata": {
      "needs_background": "light"
     },
     "output_type": "display_data"
    }
   ],
   "source": [
    "sns.boxplot(y='Tenure',x = 'Exited',data = customer_train)\n",
    "#Sembra dal grafico che chi è diventato da poco cliente della banca o chi lo è da molto sia più propenso ad andar via."
   ]
  },
  {
   "cell_type": "markdown",
   "id": "regional-macro",
   "metadata": {},
   "source": [
    "Ci sono delle feature che non hanno impatto significativo sul dataset: per esempio Credit Score. "
   ]
  },
  {
   "cell_type": "code",
   "execution_count": 19,
   "id": "increasing-ending",
   "metadata": {},
   "outputs": [
    {
     "data": {
      "text/plain": [
       "<AxesSubplot:xlabel='Exited', ylabel='CreditScore'>"
      ]
     },
     "execution_count": 19,
     "metadata": {},
     "output_type": "execute_result"
    },
    {
     "data": {
      "image/png": "[encoded data removed]",
      "text/plain": [
       "<Figure size 432x288 with 1 Axes>"
      ]
     },
     "metadata": {
      "needs_background": "light"
     },
     "output_type": "display_data"
    }
   ],
   "source": [
    "sns.boxplot(y='CreditScore',x = 'Exited', hue = 'Exited',data = customer_train)"
   ]
  },
  {
   "cell_type": "code",
   "execution_count": 20,
   "id": "genuine-formation",
   "metadata": {},
   "outputs": [],
   "source": [
    "#Notiamo che le feature che hanno minore impatto sul valore di Exited sono HasCrCard, \n",
    "#NumOfProducts, CreditScore. Le elimino.\n",
    "\n",
    "customer_train_encoded.drop(['HasCrCard', 'NumOfProducts', 'CreditScore'], axis = 1, inplace = True)\n",
    "customer_train.drop(['HasCrCard', 'NumOfProducts', 'CreditScore'], axis = 1, inplace = True)\n",
    "\n",
    "customer_test_encoded.drop(['HasCrCard', 'NumOfProducts', 'CreditScore'], axis = 1, inplace = True)\n",
    "customer_test.drop(['HasCrCard', 'NumOfProducts', 'CreditScore'], axis = 1, inplace = True)"
   ]
  },
  {
   "cell_type": "markdown",
   "id": "indoor-lease",
   "metadata": {},
   "source": [
    "### Split dei dati"
   ]
  },
  {
   "cell_type": "code",
   "execution_count": 21,
   "id": "lesser-respect",
   "metadata": {},
   "outputs": [],
   "source": [
    "#splitta i dati di train per avere feature (X_train) e target (y_train)\n",
    "y_train = customer_train_encoded.pop('Exited')\n",
    "X_train = customer_train_encoded\n",
    "\n",
    "#splitta i dati di test per avere feature (X_test) e target (y_train)\n",
    "y_test = customer_test_encoded.pop('Exited')\n",
    "X_test = customer_test_encoded"
   ]
  },
  {
   "cell_type": "code",
   "execution_count": 23,
   "id": "checked-encounter",
   "metadata": {},
   "outputs": [
    {
     "name": "stdout",
     "output_type": "stream",
     "text": [
      "Test set accuracy with Logistic Regression: 0.807\n",
      "              precision    recall  f1-score   support\n",
      "\n",
      "           0       0.81      0.99      0.89      1265\n",
      "           1       0.75      0.12      0.21       335\n",
      "\n",
      "    accuracy                           0.81      1600\n",
      "   macro avg       0.78      0.56      0.55      1600\n",
      "weighted avg       0.80      0.81      0.75      1600\n",
      "\n"
     ]
    }
   ],
   "source": [
    "#effettuo la classificazione con logistic regression \n",
    "log_reg = LogisticRegression(max_iter=350,n_jobs=-1, penalty='l2', random_state=None)\n",
    "log_reg.fit(X_train, y_train)\n",
    "print(\"Test set accuracy with Logistic Regression: {:.3f}\".format(log_reg.score(X_test, y_test)))\n",
    "print(classification_report(y_test, log_reg.predict(X_test.loc[:, X_test.columns != 'Exited'])))"
   ]
  },
  {
   "cell_type": "code",
   "execution_count": 24,
   "id": "retired-charge",
   "metadata": {},
   "outputs": [
    {
     "name": "stdout",
     "output_type": "stream",
     "text": [
      "Test set accuracy with Random Forest Classifier: 0.838\n",
      "              precision    recall  f1-score   support\n",
      "\n",
      "           0       0.84      0.98      0.91      1265\n",
      "           1       0.83      0.29      0.43       335\n",
      "\n",
      "    accuracy                           0.84      1600\n",
      "   macro avg       0.83      0.64      0.67      1600\n",
      "weighted avg       0.84      0.84      0.81      1600\n",
      "\n"
     ]
    }
   ],
   "source": [
    "# effettuo la classificazione con random forest classifier \n",
    "rand_for = RandomForestClassifier(max_depth=8, n_estimators=50,random_state=0)\n",
    "risultato = rand_for.fit(X_train, y_train)\n",
    "print(\"Test set accuracy with Random Forest Classifier: {:.3f}\".format(risultato.score(X_test, y_test)))\n",
    "print(classification_report(y_test, rand_for.predict(X_test.loc[:, X_test.columns != 'Exited'])))"
   ]
  },
  {
   "cell_type": "code",
   "execution_count": 25,
   "id": "familiar-synthetic",
   "metadata": {},
   "outputs": [
    {
     "name": "stdout",
     "output_type": "stream",
     "text": [
      "Test set accuracy with KNN: 0.790\n",
      "              precision    recall  f1-score   support\n",
      "\n",
      "           0       0.79      1.00      0.88      1265\n",
      "           1       0.00      0.00      0.00       335\n",
      "\n",
      "    accuracy                           0.79      1600\n",
      "   macro avg       0.40      0.50      0.44      1600\n",
      "weighted avg       0.62      0.79      0.70      1600\n",
      "\n"
     ]
    }
   ],
   "source": [
    "# effettuo la classificazione con KNN\n",
    "knc = KNeighborsClassifier(n_neighbors = 10,n_jobs=-1)\n",
    "risultato = knc.fit(X_train, y_train)\n",
    "print(\"Test set accuracy with KNN: {:.3f}\".format(risultato.score(X_test, y_test)))\n",
    "print(classification_report(y_test, knc.predict(X_test.loc[:, X_test.columns != 'Exited'])))"
   ]
  },
  {
   "cell_type": "code",
   "execution_count": 29,
   "id": "comprehensive-doubt",
   "metadata": {},
   "outputs": [
    {
     "name": "stdout",
     "output_type": "stream",
     "text": [
      "Test set accuracy with MLP: 0.814\n",
      "              precision    recall  f1-score   support\n",
      "\n",
      "           0       0.81      1.00      0.89      1265\n",
      "           1       0.95      0.12      0.21       335\n",
      "\n",
      "    accuracy                           0.81      1600\n",
      "   macro avg       0.88      0.56      0.55      1600\n",
      "weighted avg       0.84      0.81      0.75      1600\n",
      "\n"
     ]
    }
   ],
   "source": [
    "mlp= MLPClassifier(random_state=1, max_iter=250, activation='tanh', alpha=1e-5)\n",
    "mlp.fit(X_train, y_train)\n",
    "print(\"Test set accuracy with MLP: {:.3f}\".format(mlp.score(X_test, y_test)))\n",
    "print(classification_report(y_test, mlp.predict(X_test.loc[:, X_test.columns != 'Exited'])))"
   ]
  }
 ],
 "metadata": {
  "kernelspec": {
   "display_name": "Python 3",
   "language": "python",
   "name": "python3"
  },
  "language_info": {
   "codemirror_mode": {
    "name": "ipython",
    "version": 3
   },
   "file_extension": ".py",
   "mimetype": "text/x-python",
   "name": "python",
   "nbconvert_exporter": "python",
   "pygments_lexer": "ipython3",
   "version": "3.6.13"
  }
 },
 "nbformat": 4,
 "nbformat_minor": 5
}
