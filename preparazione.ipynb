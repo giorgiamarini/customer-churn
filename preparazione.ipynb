{
 "cells": [
  {
   "cell_type": "markdown",
   "id": "communist-murray",
   "metadata": {},
   "source": [
    "## Import librerie ed oggetti"
   ]
  },
  {
   "cell_type": "markdown",
   "id": "secondary-wiring",
   "metadata": {},
   "source": [
    "* pandas, per la manipolazione dei dati tabellari \n",
    "* train_test_split da sklearn per effettuare lo split sui dati"
   ]
  },
  {
   "cell_type": "code",
   "execution_count": 1,
   "id": "magnetic-gross",
   "metadata": {},
   "outputs": [
    {
     "name": "stdout",
     "output_type": "stream",
     "text": [
      "/bin/bash: sudo: command not found\r\n"
     ]
    }
   ],
   "source": [
    "!sudo apt update && sudo apt install -y graphviz"
   ]
  },
  {
   "cell_type": "code",
   "execution_count": 2,
   "id": "listed-cutting",
   "metadata": {},
   "outputs": [
    {
     "name": "stdout",
     "output_type": "stream",
     "text": [
      "Collecting graphviz\n",
      "  Downloading graphviz-0.16-py2.py3-none-any.whl (19 kB)\n",
      "Installing collected packages: graphviz\n",
      "Successfully installed graphviz-0.16\n",
      "Collecting mglearn\n",
      "  Downloading mglearn-0.1.9.tar.gz (540 kB)\n",
      "\u001b[K     |████████████████████████████████| 540 kB 4.5 MB/s eta 0:00:01\n",
      "\u001b[?25hRequirement already satisfied: numpy in /srv/conda/envs/notebook/lib/python3.6/site-packages (from mglearn) (1.19.5)\n",
      "Requirement already satisfied: matplotlib in /srv/conda/envs/notebook/lib/python3.6/site-packages (from mglearn) (3.3.4)\n",
      "Requirement already satisfied: scikit-learn in /srv/conda/envs/notebook/lib/python3.6/site-packages (from mglearn) (0.24.1)\n",
      "Requirement already satisfied: pandas in /srv/conda/envs/notebook/lib/python3.6/site-packages (from mglearn) (1.1.5)\n",
      "Requirement already satisfied: pillow in /srv/conda/envs/notebook/lib/python3.6/site-packages (from mglearn) (8.2.0)\n",
      "Requirement already satisfied: cycler in /srv/conda/envs/notebook/lib/python3.6/site-packages/cycler-0.10.0-py3.6.egg (from mglearn) (0.10.0)\n",
      "Requirement already satisfied: imageio in /srv/conda/envs/notebook/lib/python3.6/site-packages (from mglearn) (2.9.0)\n",
      "Requirement already satisfied: joblib in /srv/conda/envs/notebook/lib/python3.6/site-packages (from mglearn) (1.0.1)\n",
      "Requirement already satisfied: six in /srv/conda/envs/notebook/lib/python3.6/site-packages (from cycler->mglearn) (1.15.0)\n",
      "Requirement already satisfied: pyparsing!=2.0.4,!=2.1.2,!=2.1.6,>=2.0.3 in /srv/conda/envs/notebook/lib/python3.6/site-packages (from matplotlib->mglearn) (2.4.7)\n",
      "Requirement already satisfied: kiwisolver>=1.0.1 in /srv/conda/envs/notebook/lib/python3.6/site-packages (from matplotlib->mglearn) (1.3.1)\n",
      "Requirement already satisfied: python-dateutil>=2.1 in /srv/conda/envs/notebook/lib/python3.6/site-packages (from matplotlib->mglearn) (2.8.1)\n",
      "Requirement already satisfied: pytz>=2017.2 in /srv/conda/envs/notebook/lib/python3.6/site-packages (from pandas->mglearn) (2021.1)\n",
      "Requirement already satisfied: scipy>=0.19.1 in /srv/conda/envs/notebook/lib/python3.6/site-packages (from scikit-learn->mglearn) (1.5.3)\n",
      "Requirement already satisfied: threadpoolctl>=2.0.0 in /srv/conda/envs/notebook/lib/python3.6/site-packages (from scikit-learn->mglearn) (2.1.0)\n",
      "Building wheels for collected packages: mglearn\n",
      "  Building wheel for mglearn (setup.py) ... \u001b[?25ldone\n",
      "\u001b[?25h  Created wheel for mglearn: filename=mglearn-0.1.9-py2.py3-none-any.whl size=582638 sha256=67127ac92cec5a9526f01ee8e9b3c0ef242ade5155ae1a5360bd95db6a9418bd\n",
      "  Stored in directory: /home/jovyan/.cache/pip/wheels/d6/a5/f5/78d1aacafab120a99614ca8c044d485691a11bbc1e99c3c1a3\n",
      "Successfully built mglearn\n",
      "Installing collected packages: mglearn\n",
      "Successfully installed mglearn-0.1.9\n",
      "Requirement already satisfied: scikit-learn==0.24.1 in /srv/conda/envs/notebook/lib/python3.6/site-packages (0.24.1)\n",
      "Requirement already satisfied: numpy>=1.13.3 in /srv/conda/envs/notebook/lib/python3.6/site-packages (from scikit-learn==0.24.1) (1.19.5)\n",
      "Requirement already satisfied: joblib>=0.11 in /srv/conda/envs/notebook/lib/python3.6/site-packages (from scikit-learn==0.24.1) (1.0.1)\n",
      "Requirement already satisfied: scipy>=0.19.1 in /srv/conda/envs/notebook/lib/python3.6/site-packages (from scikit-learn==0.24.1) (1.5.3)\n",
      "Requirement already satisfied: threadpoolctl>=2.0.0 in /srv/conda/envs/notebook/lib/python3.6/site-packages (from scikit-learn==0.24.1) (2.1.0)\n"
     ]
    }
   ],
   "source": [
    "!pip3 install graphviz\n",
    "!pip3 install mglearn\n",
    "!pip3 install scikit-learn=='0.24.1'"
   ]
  },
  {
   "cell_type": "code",
   "execution_count": 3,
   "id": "featured-adrian",
   "metadata": {},
   "outputs": [],
   "source": [
    "import pandas as pd\n",
    "from sklearn.model_selection import train_test_split"
   ]
  },
  {
   "cell_type": "markdown",
   "id": "interpreted-bracket",
   "metadata": {},
   "source": [
    "## Carico il file csv contenente il dataset"
   ]
  },
  {
   "cell_type": "code",
   "execution_count": null,
   "id": "suited-digest",
   "metadata": {},
   "outputs": [],
   "source": [
    "customer_data = pd.read_csv('Churn_Modelling.partial.csv')"
   ]
  },
  {
   "cell_type": "markdown",
   "id": "confident-comfort",
   "metadata": {},
   "source": [
    "## Effettuo lo split sui dati e creo due dataset distinti, uno di training e uno di test"
   ]
  },
  {
   "cell_type": "code",
   "execution_count": null,
   "id": "ordinary-minister",
   "metadata": {},
   "outputs": [],
   "source": [
    "train, test = train_test_split(customer_data, test_size=0.2)"
   ]
  },
  {
   "cell_type": "code",
   "execution_count": null,
   "id": "hydraulic-thinking",
   "metadata": {},
   "outputs": [],
   "source": [
    "train.to_csv('train.csv',index=False)"
   ]
  },
  {
   "cell_type": "code",
   "execution_count": null,
   "id": "amateur-exchange",
   "metadata": {},
   "outputs": [],
   "source": [
    "test.to_csv('test.csv',index=False)"
   ]
  }
 ],
 "metadata": {
  "kernelspec": {
   "display_name": "Python 3",
   "language": "python",
   "name": "python3"
  },
  "language_info": {
   "codemirror_mode": {
    "name": "ipython",
    "version": 3
   },
   "file_extension": ".py",
   "mimetype": "text/x-python",
   "name": "python",
   "nbconvert_exporter": "python",
   "pygments_lexer": "ipython3",
   "version": "3.6.13"
  }
 },
 "nbformat": 4,
 "nbformat_minor": 5
}
